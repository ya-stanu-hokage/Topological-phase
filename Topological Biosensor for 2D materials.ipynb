{
 "cells": [
  {
   "cell_type": "code",
   "execution_count": 1,
   "id": "3409353b",
   "metadata": {},
   "outputs": [],
   "source": [
    "import cmath as m\n",
    "import numpy as np\n",
    "from matplotlib import cm\n",
    "import matplotlib.pyplot as plt"
   ]
  },
  {
   "cell_type": "code",
   "execution_count": 2,
   "id": "ee1cf079",
   "metadata": {},
   "outputs": [],
   "source": [
    "def refr_angle(n1, n2, aoi): # refraction angle \n",
    "    return np.arcsin(n1 * np.sin(aoi) / n2)"
   ]
  },
  {
   "cell_type": "code",
   "execution_count": 3,
   "id": "20cde77a",
   "metadata": {},
   "outputs": [],
   "source": [
    "def refl_12_p(n1, n2, aoi): #reflection coef. of p-polar. between two surfaces \n",
    "    aor = refr_angle(n1, n2, aoi)\n",
    "    #r_p\n",
    "    return (n2*np.cos(aoi) - n1*np.cos(aor)) / (n2*np.cos(aoi) + n1*np.cos(aor))"
   ]
  },
  {
   "cell_type": "code",
   "execution_count": 4,
   "id": "02fc0327",
   "metadata": {},
   "outputs": [],
   "source": [
    "def refl_12_s(n1, n2, aoi): #reflection coef. of s-polar. between two surfaces \n",
    "    aor = refr_angle(n1, n2, aoi)\n",
    "    #r_s\n",
    "    return (n1*np.cos(aoi) - n2*np.cos(aor)) / (n1*np.cos(aoi) + n2*np.cos(aor))"
   ]
  },
  {
   "cell_type": "code",
   "execution_count": 5,
   "id": "743ac873",
   "metadata": {},
   "outputs": [],
   "source": [
    "def tr_12_p(n1, n2, aoi): #transmission coef. of p-polar. between two surfaces \n",
    "    aor = refr_angle(n1, n2, aoi)\n",
    "    #t_p\n",
    "    return 2*n1*np.cos(aoi) / (n2*np.cos(aoi) + n1*np.cos(aor))"
   ]
  },
  {
   "cell_type": "code",
   "execution_count": 6,
   "id": "7f639f5e",
   "metadata": {},
   "outputs": [],
   "source": [
    "def tr_12_s(n1, n2, aoi): #transmission coef. of s-polar. between two surfaces \n",
    "    aor = refr_angle(n1, n2, aoi)\n",
    "    #t_s\n",
    "    return 2*n1*np.cos(aoi) / (n1*np.cos(aoi) + n2*np.cos(aor))"
   ]
  },
  {
   "cell_type": "code",
   "execution_count": 7,
   "id": "c7db8127",
   "metadata": {},
   "outputs": [],
   "source": [
    "def refl_3(r12, r23, d2, n1, n2, lamda, phi): #reflection of triple interface\n",
    "    psi = refr_angle(n1, n2, phi)\n",
    "    phase = 2 * np.pi / lamda * n2 * np.cos(psi) * d2\n",
    "    r123 = (r12 + r23 * np.exp(-2j * phase)) / (1 + r12 * r23 * np.exp(-2j * phase))\n",
    "    return r123"
   ]
  },
  {
   "cell_type": "code",
   "execution_count": 8,
   "id": "b9e4723e",
   "metadata": {},
   "outputs": [],
   "source": [
    "#create massives\n",
    "\n",
    "#division of angle\n",
    "start = np.pi / 180 * 30\n",
    "end = np.pi / 180 * 70\n",
    "step = (end - start) / 1000 \n",
    "aoi = np.arange(start, end, step)\n",
    "#print(len(aoi))\n",
    "\n",
    "#division of wavelenght\n",
    "start, end = 450, 750\n",
    "lamda = np.linspace(start, end, end-start+1, endpoint = True)\n",
    "\n",
    "\n",
    "# optical constants of air\n",
    "n_air = np.ones(end-start+1)"
   ]
  },
  {
   "cell_type": "code",
   "execution_count": 9,
   "id": "9a4b57e0",
   "metadata": {
    "scrolled": true
   },
   "outputs": [],
   "source": [
    "#read optical constants from file\n",
    "\n",
    "with open('Silicon_ir.txt', 'r') as f_si, open('Dioxide_Silicon_ir.txt', 'r') as f_sio2, open('Gold.txt', 'r') as f_au, open('Bi2Te3_ox.txt') as f_bs, open('H2O.txt', 'r') as f_water:\n",
    "    n_si = [complex(float(line.split()[1]),-float(line.split()[2])) for line in f_si.readlines() if  start <= int(line.split()[0]) <= end]\n",
    "    n_si = np.array(n_si)\n",
    "    #print(*n_si) \n",
    "    #print()\n",
    "    n_sio2 = [complex(float(line.split()[1]),-float(line.split()[2])) for line in f_sio2.readlines() if  start <= int(line.split()[0]) <= end]\n",
    "    n_sio2 = np.array(n_sio2)\n",
    "    #print(*n_sio2) \n",
    "    n_au = [complex(float(line.split()[1]),-float(line.split()[2])) for line in f_au.readlines() if  start <= int(line.split()[0]) <= end]\n",
    "    n_au = np.array(n_au)\n",
    "    #print(*n_au)    \n",
    "    n_bs = [complex(float(line.split()[1].replace(',','.')),-float(line.split()[2].replace(',','.'))) for line in f_bs.readlines() if start <= int(float(line.split()[0].replace(',','.'))) <= end]\n",
    "    n_bs = np.array(n_bs)\n",
    "    #print(*n_bs)\n",
    "    #print(len(n_bs))\n",
    "    n_w = [complex(float(line.split()[1]),-float(line.split()[2])) for line in f_water.readlines() if  start <= int(line.split()[0]) <= end]\n",
    "    n_w = np.array(n_w)\n",
    "    #print(len(n_w))"
   ]
  },
  {
   "cell_type": "code",
   "execution_count": 10,
   "id": "da983e37",
   "metadata": {},
   "outputs": [],
   "source": [
    "from scipy.interpolate import CubicSpline\n",
    "import matplotlib.pyplot as plt"
   ]
  },
  {
   "cell_type": "code",
   "execution_count": 11,
   "id": "106befaf",
   "metadata": {},
   "outputs": [],
   "source": [
    "cs_r = CubicSpline(lamda[::2], n_bs.real)\n",
    "cs_i = CubicSpline(lamda[::2], n_bs.imag)"
   ]
  },
  {
   "cell_type": "code",
   "execution_count": 12,
   "id": "870a9bf3",
   "metadata": {},
   "outputs": [],
   "source": [
    "n_bs_r = cs_r(lamda)\n",
    "n_bs_i = cs_i(lamda)"
   ]
  },
  {
   "cell_type": "code",
   "execution_count": 14,
   "id": "be4479da",
   "metadata": {},
   "outputs": [],
   "source": [
    "n_bs = n_bs_r - 1j * n_bs_i"
   ]
  },
  {
   "cell_type": "code",
   "execution_count": 15,
   "id": "34c382e9",
   "metadata": {},
   "outputs": [
    {
     "name": "stdout",
     "output_type": "stream",
     "text": [
      "1 : 250 : 67.64deg : 450.0nm : 0.17070874517760493\n",
      "1 : 255 : 68.28deg : 450.0nm : 0.15599456093402458\n",
      "1 : 260 : 68.88deg : 450.0nm : 0.14094320182175493\n",
      "1 : 265 : 69.48deg : 450.0nm : 0.12554288000328026\n",
      "1 : 270 : 70.0deg : 450.0nm : 0.10980100301889238\n",
      "2 : 250 : 67.44deg : 450.0nm : 0.1282713604801759\n",
      "2 : 255 : 68.16deg : 450.0nm : 0.11243775382317166\n",
      "2 : 260 : 68.84deg : 450.0nm : 0.09634299709837921\n",
      "2 : 265 : 69.52deg : 450.0nm : 0.07995856304977746\n",
      "2 : 270 : 70.0deg : 450.0nm : 0.06359878774491552\n",
      "3 : 250 : 67.36deg : 450.0nm : 0.08281832758655992\n",
      "3 : 255 : 68.12deg : 450.0nm : 0.06600648090847827\n",
      "3 : 260 : 68.88deg : 450.0nm : 0.04897633112983949\n",
      "3 : 265 : 69.6deg : 450.0nm : 0.03170839000469688\n",
      "3 : 270 : 70.0deg : 452.0nm : 0.017131753768644856\n",
      "4 : 250 : 67.32deg : 450.0nm : 0.03437579752779186\n",
      "4 : 255 : 68.16deg : 450.0nm : 0.01672851753145385\n",
      "4 : 260 : 68.8deg : 451.0nm : 0.0005351875407898025\n",
      "4 : 265 : 68.04deg : 464.0nm : 0.0005528346482472127\n",
      "4 : 270 : 67.36deg : 477.0nm : 0.0005529614377606649\n"
     ]
    }
   ],
   "source": [
    "#need to vatiate lenght of sio2 and bi2se3\n",
    "d_bs = [i for i in range(1, 5, 1)] \n",
    "d_sio2 = [i for i in range(250, 271, 5)]\n",
    "for g in range(len(d_bs)):\n",
    "    for h in range(len(d_sio2)):\n",
    "        matrix = []\n",
    "        for i in range(len(aoi)):\n",
    "\n",
    "            #WATER - Bi2Se3 - SiO2 - Si p-polarization\n",
    "            psi = refr_angle(n_w, n_bs, aoi[i])\n",
    "            r12_p = refl_12_p(n_bs, n_sio2, psi)\n",
    "            aoi_in_sio2 = refr_angle(n_w, n_sio2, aoi[i])\n",
    "            r23_p = refl_12_p(n_sio2, n_si, aoi_in_sio2)\n",
    "            r123_p = refl_3(r12_p, r23_p, d_sio2[h], n_bs, n_sio2, lamda, psi)\n",
    "                #add layer with air\n",
    "            r01_p = refl_12_p(n_w, n_bs, aoi[i])\n",
    "            r0123_p = refl_3(r01_p, r123_p, d_bs[g], n_w, n_bs, lamda, aoi[i])\n",
    "            matrix.append(abs(r0123_p))\n",
    "\n",
    "#                 #Air - Bi2Se3 - SiO2 - Si s-polarization\n",
    "#                     #Bi2Se3 - SiO2 - Si s-polarization\n",
    "#                 psi = refr_angle(n_air[j], n_bs[j], aoi[i])\n",
    "#                 r12_s = refl_12_s(n_bs[j], n_sio2[j], psi)\n",
    "#                 aoi_in_sio2 = refr_angle(n_air[j], n_sio2[j], aoi[i])\n",
    "#                 r23_s = refl_12_s(n_sio2[j], n_si[j], aoi_in_sio2)\n",
    "#                 r123_s = refl_3(r12_s, r23_s, d_sio2[h], n_bs[j], n_sio2[j], lamda[j], psi)\n",
    "#                     #add layer with air\n",
    "#                 r01_s = refl_12_s(n_air[j], n_bs[j], aoi[i])\n",
    "#                 r0123_s = refl_3(r01_s, r123_s, d_bs[g], n_air[j], n_bs[j], lamda[j], aoi[i])\n",
    "#                 data.append(abs(r0123_s))\n",
    "\n",
    "\n",
    "        #mini = min(min(matrix, key=min))\n",
    "        from math import degrees\n",
    "        mini = min(min(matrix, key=min))\n",
    "        flag = 1\n",
    "        for i in range(len(aoi)):\n",
    "            for j in range(len(lamda)):\n",
    "                if matrix[i][j] == mini:\n",
    "                    print(d_bs[g], d_sio2[h], str(round(degrees(aoi[i]), 3)) + 'deg', str(lamda[j]) + 'nm', mini, sep=' : ')\n",
    "                    flag = 0\n",
    "                    break\n",
    "            if flag == 0:\n",
    "                break\n",
    "    #print(*matrix) "
   ]
  },
  {
   "cell_type": "code",
   "execution_count": 16,
   "id": "7a527c3c",
   "metadata": {},
   "outputs": [
    {
     "name": "stdout",
     "output_type": "stream",
     "text": [
      "CPU times: total: 3.81 s\n",
      "Wall time: 3.85 s\n"
     ]
    }
   ],
   "source": [
    "%%time\n",
    "d_bs = 5\n",
    "d_sio2 = 260\n",
    "#create massives\n",
    "\n",
    "#division of angle\n",
    "start = np.pi / 180 * 0\n",
    "end = np.pi / 180 * 80\n",
    "step = (end - start) / 4000 \n",
    "aoi = np.arange(start, end, step)\n",
    "#print(len(aoi))\n",
    "\n",
    "#division of wavelenght\n",
    "#lamda = l#list(range(350,751))\n",
    "\n",
    "# optical constants of air\n",
    "#n_air = [1 for i in range(601)]\n",
    "#print(*aoi)\n",
    "#print(*lamda)\n",
    "matrix = []\n",
    "for i in range(len(aoi)):\n",
    "\n",
    "    #WATER - Bi2Se3 - SiO2 - Si p-polarization\n",
    "    psi = refr_angle(n_w, n_bs, aoi[i])\n",
    "    r12_p = refl_12_p(n_bs, n_sio2, psi)\n",
    "    aoi_in_sio2 = refr_angle(n_w, n_sio2, aoi[i])\n",
    "    r23_p = refl_12_p(n_sio2, n_si, aoi_in_sio2)\n",
    "    r123_p = refl_3(r12_p, r23_p, d_sio2, n_bs, n_sio2, lamda, psi)\n",
    "        #add layer with air\n",
    "    r01_p = refl_12_p(n_w, n_bs, aoi[i])\n",
    "    r0123_p = refl_3(r01_p, r123_p, d_bs, n_w, n_bs, lamda, aoi[i])\n",
    "    matrix.append(np.angle(r0123_p))\n",
    "#         data.append(m.phase(r0123_p)+m.pi)"
   ]
  },
  {
   "cell_type": "code",
   "execution_count": null,
   "id": "c61f05e9",
   "metadata": {
    "scrolled": false
   },
   "outputs": [],
   "source": [
    "import plotly.graph_objects as go\n",
    "\n",
    "structure = 'Water - Bi2Te3 - SiO2- Si'\n",
    "polar = 'p'\n",
    "fig = go.Figure(data=go.Heatmap(x=lamda,\n",
    "                y=[degrees(c) for c in aoi],\n",
    "                z=matrix,\n",
    "                colorscale = \"Hsv\"))\n",
    "\n",
    "fig.update_layout(\n",
    "    title= f'Bi2Te3: {d_bs} nm, SiO2: {d_sio2} nm',\n",
    "    xaxis_title=\"Wavelength, nm\",\n",
    "    yaxis_title=\"Angle of incidence, deg\",\n",
    "    legend_title=\"Phase\",\n",
    "    width=650,\n",
    "    height=650,\n",
    "    font=dict(\n",
    "        family=\"Times New Roman, monospace\",\n",
    "        size=18,\n",
    "        color=\"RebeccaPurple\"\n",
    "    )\n",
    ")\n",
    "\n",
    "fig.show()"
   ]
  }
 ],
 "metadata": {
  "kernelspec": {
   "display_name": "Python 3 (ipykernel)",
   "language": "python",
   "name": "python3"
  },
  "language_info": {
   "codemirror_mode": {
    "name": "ipython",
    "version": 3
   },
   "file_extension": ".py",
   "mimetype": "text/x-python",
   "name": "python",
   "nbconvert_exporter": "python",
   "pygments_lexer": "ipython3",
   "version": "3.9.12"
  }
 },
 "nbformat": 4,
 "nbformat_minor": 5
}
